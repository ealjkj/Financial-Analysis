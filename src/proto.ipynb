{
 "cells": [
  {
   "cell_type": "code",
   "execution_count": 20,
   "id": "99407f18-1e92-44e3-9bb6-082e6a44f4a4",
   "metadata": {},
   "outputs": [],
   "source": [
    "import numpy as np\n",
    "import pandas as pd\n",
    "from utils import *\n",
    "from sklearn.base import BaseEstimator, TransformerMixin\n",
    "from sklearn.model_selection import train_test_split"
   ]
  },
  {
   "cell_type": "code",
   "execution_count": 17,
   "id": "efc08b55-17ae-4772-a426-d4ab4d805591",
   "metadata": {},
   "outputs": [],
   "source": [
    "class Grid(BaseEstimator, TransformerMixin):\n",
    "    def __init__(self, width, height):\n",
    "        self.width = width\n",
    "        self.height = height\n",
    "    \n",
    "    def fit(self):\n",
    "        return self\n",
    "       \n",
    "    def predict(self, X, y):\n",
    "        return X, y\n",
    "          "
   ]
  },
  {
   "cell_type": "code",
   "execution_count": 23,
   "id": "bea7504b-3e2c-4fe6-84bf-679646a21b0f",
   "metadata": {},
   "outputs": [],
   "source": [
    "trace_size = 50\n",
    "\n",
    "#############\n",
    "\n",
    "all_days = data['4. close']\n",
    "\n",
    "dataset = labeled_traces_from_array(all_days, 15)\n"
   ]
  },
  {
   "cell_type": "code",
   "execution_count": 43,
   "id": "8d814947-3d9b-46af-a4b8-cb37f6ac1d94",
   "metadata": {},
   "outputs": [],
   "source": [
    "X = [trace for (trace, _) in dataset]\n",
    "y = [int(label >= 0) for (_, label) in dataset]\n",
    "\n",
    "X_train, X_val, y_train, y_val = train_test_split(X, y, random_state=23, test_size=0.2, stratify=y)"
   ]
  },
  {
   "cell_type": "code",
   "execution_count": null,
   "id": "403e3904-ba58-4b16-bdbd-f752eb3a9bf3",
   "metadata": {},
   "outputs": [],
   "source": []
  },
  {
   "cell_type": "code",
   "execution_count": null,
   "id": "1be1d592-aaa1-4223-94fa-749b10255fcc",
   "metadata": {},
   "outputs": [],
   "source": []
  },
  {
   "cell_type": "code",
   "execution_count": null,
   "id": "95a5085f-5c15-43e8-8fa5-72157386d933",
   "metadata": {},
   "outputs": [],
   "source": []
  },
  {
   "cell_type": "code",
   "execution_count": null,
   "id": "c8ce1e8e-3b39-4c29-994b-bc130c709d3e",
   "metadata": {},
   "outputs": [],
   "source": []
  }
 ],
 "metadata": {
  "kernelspec": {
   "display_name": "Python 3 (ipykernel)",
   "language": "python",
   "name": "python3"
  },
  "language_info": {
   "codemirror_mode": {
    "name": "ipython",
    "version": 3
   },
   "file_extension": ".py",
   "mimetype": "text/x-python",
   "name": "python",
   "nbconvert_exporter": "python",
   "pygments_lexer": "ipython3",
   "version": "3.9.6"
  }
 },
 "nbformat": 4,
 "nbformat_minor": 5
}
