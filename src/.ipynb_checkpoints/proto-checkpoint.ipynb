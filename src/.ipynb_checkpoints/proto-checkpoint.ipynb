{
 "cells": [
  {
   "cell_type": "code",
   "execution_count": 13,
   "id": "99407f18-1e92-44e3-9bb6-082e6a44f4a4",
   "metadata": {},
   "outputs": [],
   "source": [
    "import numpy as np\n",
    "import pandas as pd\n",
    "from utils import *\n",
    "from sklearn.base import BaseEstimator, TransformerMixin\n",
    "from sklearn.model_selection import train_test_split\n",
    "from sklearn.model_selection import KFold\n",
    "\n"
   ]
  },
  {
   "cell_type": "code",
   "execution_count": 14,
   "id": "efc08b55-17ae-4772-a426-d4ab4d805591",
   "metadata": {},
   "outputs": [],
   "source": [
    "class Grid(BaseEstimator, TransformerMixin):\n",
    "    def __init__(self, width, height):\n",
    "        self.width = width\n",
    "        self.height = height\n",
    "    \n",
    "    def fit(self):\n",
    "        return self\n",
    "       \n",
    "    def predict(self, X, y):\n",
    "        return X, y\n",
    "          "
   ]
  },
  {
   "cell_type": "code",
   "execution_count": 99,
   "id": "bea7504b-3e2c-4fe6-84bf-679646a21b0f",
   "metadata": {},
   "outputs": [],
   "source": [
    "trace_size = 15\n",
    "\n",
    "#############\n",
    "\n",
    "all_days = data['4. close']\n",
    "\n",
    "dataset = labeled_traces_from_array(all_days, trace_size)\n"
   ]
  },
  {
   "cell_type": "code",
   "execution_count": 113,
   "id": "8d814947-3d9b-46af-a4b8-cb37f6ac1d94",
   "metadata": {},
   "outputs": [],
   "source": [
    "X = np.array([trace for (trace, _) in dataset])\n",
    "y = np.array([int(label >= 0) for (_, label) in dataset])\n",
    "\n",
    "X_train, X_val, y_train, y_val = train_test_split(X, y, random_state=23, test_size=0.2, stratify=y)"
   ]
  },
  {
   "cell_type": "code",
   "execution_count": 125,
   "id": "c8ce1e8e-3b39-4c29-994b-bc130c709d3e",
   "metadata": {},
   "outputs": [
    {
     "name": "stdout",
     "output_type": "stream",
     "text": [
      "0.16746411483253598\n",
      "0.004926108374384119\n",
      "0.07755474452554743\n",
      "0.11749347258485643\n",
      "metric sum: 0.367438440317324\n",
      "avg metric: 0.091859610079331\n"
     ]
    }
   ],
   "source": [
    "grid =  itrac_grid.Grid(height=60, width=trace_size, trace_size=trace_size, grid_type='wins')\n",
    "n_splits = 4\n",
    "\n",
    "\n",
    "kf = KFold(n_splits=n_splits)\n",
    "\n",
    "# grid.fit(X_train, y_train)\n",
    "\n",
    "metric_sum = 0\n",
    "for train_index, test_index in kf.split(X_train):\n",
    "    kX_train, kX_test = X[train_index], X[test_index]\n",
    "    ky_train, ky_test = y[train_index], y[test_index]\n",
    "    \n",
    "    grid.fit(kX_train, ky_train, eliminate_noise_thold=0.008)\n",
    "    metric = grid.get_metrics(kX_test, ky_test, alpha_plus=0.7, alpha_minus=0.7)['criteria2_above']\n",
    "    print(metric)\n",
    "    metric_sum += metric\n",
    "    \n",
    "average_metric = metric_sum/n_splits\n",
    "\n",
    "print('metric sum:', metric_sum)\n",
    "print('avg metric:', average_metric)\n",
    "    \n",
    "    \n",
    "    \n",
    "        \n",
    "        "
   ]
  },
  {
   "cell_type": "code",
   "execution_count": null,
   "id": "44022e7a-67e3-4b1b-86f8-b5c69abcbe43",
   "metadata": {},
   "outputs": [],
   "source": []
  },
  {
   "cell_type": "code",
   "execution_count": null,
   "id": "c58c78f3-d378-4cec-89c1-26a6ffab3360",
   "metadata": {},
   "outputs": [],
   "source": []
  }
 ],
 "metadata": {
  "kernelspec": {
   "display_name": "Python 3 (ipykernel)",
   "language": "python",
   "name": "python3"
  },
  "language_info": {
   "codemirror_mode": {
    "name": "ipython",
    "version": 3
   },
   "file_extension": ".py",
   "mimetype": "text/x-python",
   "name": "python",
   "nbconvert_exporter": "python",
   "pygments_lexer": "ipython3",
   "version": "3.9.6"
  }
 },
 "nbformat": 4,
 "nbformat_minor": 5
}
